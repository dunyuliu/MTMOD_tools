{
 "cells": [
  {
   "cell_type": "markdown",
   "metadata": {},
   "source": [
    "# Lecture 17: The Seismic Cycle I: Nucleation\n",
    "## GEO 371T/391: Earthquakes\n",
    "### Prof. Daniel Trugman, 2021"
   ]
  },
  {
   "cell_type": "code",
   "execution_count": 1,
   "metadata": {},
   "outputs": [],
   "source": [
    "### Import General Python Packages\n",
    "\n",
    "import numpy as np\n",
    "import matplotlib.pyplot as plt\n",
    "plt.rcParams['figure.figsize'] = 10,10"
   ]
  },
  {
   "cell_type": "markdown",
   "metadata": {},
   "source": [
    "# Overview"
   ]
  },
  {
   "cell_type": "markdown",
   "metadata": {},
   "source": [
    "Today's lecture focuses on one of the most fundamental and important questions in earthquake science: how do earthquakes get started? The earthquake nucleation process describes the physical changes a fault system undergoes as it transitions from its long-term, quasi-steady-state interseismic behavior to the initiation of dynamic rupture at high slip speeds. A solid physical understanding of the nucleation process is crucial for developing self-consistent models of the earthquake There are a number of existing conceptual paradigms for how nucleation might occur, and observations from the lab to the field scale provide some semblance of support. While it is clear that we have learned a lot about nucleation over the past several decades, it is also abundantly clear that there is much yet to learn. This is a very active area of research in seismology today, and is likely to remain so in the years to come.\n",
    "\n",
    "In this notebook, we explore simplified models and observations of the nucleation process, keeping in mind present limitations. We will solve a simple stability analysis problem to \"see the math\" behind the notion of a critical nucleation length scale $L_c$. This concept underpins the Rate-and-State frictional model of nucleation, which gives us a quantitative perspective of the system as it approaches failure. We will then transition from the lab and models to the field, where we'll discuss observational constraints on nucleation length scales and precursory strains."
   ]
  },
  {
   "cell_type": "markdown",
   "metadata": {},
   "source": [
    "## Example 1: Critical Stiffness and Length Scale"
   ]
  },
  {
   "cell_type": "markdown",
   "metadata": {},
   "source": [
    "In Lecture, we discussed the concept of the critical length scale for earthquake nucleation. We presented some formulas for this and discussed the idea at an intuitive level. But what is the underlying physical basis of the critical length scale? I don't find the derivation in the readings to be particularly transparent, so let's derive some key relations here. The discussion below is inspired by Chapter 11 of Paul Segall's now-classic (2011) text _Earthquake and Volcano Deformation_."
   ]
  },
  {
   "cell_type": "markdown",
   "metadata": {},
   "source": [
    "---\n",
    "\n",
    "We can gain insight by studying the dynamical, differential equations governing fault friction. One approach to this problem considers a linear stability analysis for a block-slider model.\n",
    "\n",
    "For systems of this type, the dynamical equation force balance between the loading and frictional resistance. For a loading velocity $v^{\\infty}$, mass $m$, spring constant $k$, and slip $\\delta$:\n",
    "\n",
    "\\begin{equation}\n",
    "k (v^{\\infty}t - \\delta) - f(\\dot{\\delta},\\theta) \\, \\sigma = m \\ddot{\\delta}.\n",
    "\\end{equation}\n",
    "\n",
    "Here $f(\\dot{\\delta},\\theta)$ is a rate-and-state frictional model of the form:\n",
    "\\begin{equation}\n",
    "f = f_0 + a \\log \\left (\\frac{\\dot{\\delta}}{\\dot{\\delta}_0} \\right) + b \\log \\left( \\frac{\\theta \\dot{\\delta}_0}{D_c} \\right).\n",
    "\\end{equation}\n",
    "\n",
    "[We are using $f$ instead of $\\mu$ here to avoid confusion with the shear modulus]."
   ]
  },
  {
   "attachments": {
    "image-2.png": {
     "image/png": "[encoded data removed]"
    }
   },
   "cell_type": "markdown",
   "metadata": {},
   "source": [
    "---\n",
    "\n",
    "The formulation above includes the full inertial term $m \\ddot{\\delta}$. This is neglected entirely for a steady-state problem ($\\ddot{\\delta} \\sim 0$), which can be a decent way to attack the problem.\n",
    "\n",
    "Another approach that is often used to approximate the effects of inertia without all of its inherent numerical difficulties is called the _radiation damping approximation_:\n",
    "\n",
    "\\begin{equation}\n",
    "k (v^{\\infty}t - \\delta) - f(\\dot{\\delta},\\theta) \\, \\sigma = \\eta \\dot{\\delta},\n",
    "\\end{equation}\n",
    "\n",
    "where $\\eta = \\frac{\\mu}{2 v_s}$ for shear modulus and wavespeed $\\mu$ and $v_s$. Conceptually, this term approximates the stress released via seismic waves (e.g. Segall, 2011):\n",
    "\n",
    "![image-2.png](attachment:image-2.png)"
   ]
  },
  {
   "cell_type": "markdown",
   "metadata": {},
   "source": [
    "---\n",
    "\n",
    "If we rewrite the equations of motion in terms of velocity $v = \\dot{\\delta}$ and take the time derivative, we have:\n",
    "\n",
    "\\begin{equation}\n",
    "k (v^{\\infty} - v) - \\sigma \\frac{\\partial}{\\partial t} \\left[ f_0 + a \\log \\left (\\frac{v}{v_0} \\right) + b \\log \\left( \\frac{\\theta v_0}{D_c} \\right) \\right] = \\eta \\dot{v}\n",
    "\\end{equation}"
   ]
  },
  {
   "cell_type": "markdown",
   "metadata": {},
   "source": [
    "---\n",
    "\n",
    "Noting that:\n",
    "\n",
    "\\begin{equation}\n",
    "\\frac{\\partial}{\\partial t} a \\log \\left (\\frac{v}{v_0} \\right) = \\frac{a \\dot{v}}{v} \n",
    "\\end{equation}\n",
    "\n",
    "and\n",
    "\n",
    "\\begin{equation}\n",
    "\\frac{\\partial}{\\partial t} b \\log \\left (\\frac{\\theta v_0}{D_c} \\right) = \\frac{b \\dot{\\theta}}{\\theta} \n",
    "\\end{equation}\n",
    "\n",
    "we have\n",
    "\n",
    "\\begin{equation}\n",
    "k (v^{\\infty} - v) - \\sigma \\left[ \\frac{a \\dot{v}}{v} + \\frac{b \\dot{\\theta}}{\\theta} \\right] = \\eta \\dot{v}.\n",
    "\\end{equation}"
   ]
  },
  {
   "cell_type": "markdown",
   "metadata": {},
   "source": [
    "---\n",
    "\n",
    "To proceed, we need coupled, first order differential equations for the dynamic variables $v$ and $\\theta$. Solving for $\\dot{v}$, we arrive at:\n",
    "\n",
    "\\begin{equation}\n",
    "\\dot{v} = \\left(\\frac{\\eta}{\\sigma} + \\frac{a}{v} \\right)^{-1} \\left( \\frac{\\dot{\\tau}}{\\sigma} - \\frac{b \\dot{\\theta}}{\\theta} \\right),\n",
    "\\end{equation}\n",
    "\n",
    "where the stressing rate $\\dot{\\tau} = k (v^{\\infty} - v)$ comes from loading term."
   ]
  },
  {
   "cell_type": "markdown",
   "metadata": {},
   "source": [
    "---\n",
    "\n",
    "State evolves either via the Dieterich aging law:\n",
    "    \n",
    "\\begin{equation}\n",
    "\\dot{\\theta} = 1 - \\frac{\\theta v}{D_c}\n",
    "\\end{equation}\n",
    "\n",
    "or Ruina slip law:\n",
    "\n",
    "\\begin{equation}\n",
    "\\dot{\\theta} = - \\frac{\\theta v}{D_c} \\log \\left( \\frac{\\theta v}{D_c} \\right)\n",
    "\\end{equation}"
   ]
  },
  {
   "cell_type": "markdown",
   "metadata": {},
   "source": [
    "---\n",
    "\n",
    "For the purposes of studying nucleation, it is reasonable to neglect the radiation damping term (which will only become important once rupture commences). However, it is also reasonable to assume a \"no-healing limit\" where $\\theta v /D_c << 1$ for most (if not all) of the nucleation process, as slip speeds will well exceed the steady state loading velocity ($v >> v^{\\infty}$). \n",
    "\n",
    "Under these assumptions, state-evolution can be approximated as $\\dot{\\theta}/\\theta = -v/D_c$, and the equations reduce to:\n",
    "\n",
    "\\begin{equation}\n",
    "\\dot{v} = \\frac{v^2}{a} \\left( \\frac{b}{D_c} - \\frac{k}{\\sigma} \\right)\n",
    "\\end{equation}"
   ]
  },
  {
   "cell_type": "markdown",
   "metadata": {},
   "source": [
    "---\n",
    "\n",
    "This equation defines a critical stiffness\n",
    "\n",
    "\\begin{equation}\n",
    "k_c = \\frac{b \\sigma}{D_c}.\n",
    "\\end{equation}\n",
    "\n",
    "\n",
    "For $k>k_c$, the system is stable (steady sliding), while for $k<k_c$, earthquake-like instabilities are possible.\n",
    "\n",
    "---\n",
    "\n",
    "The critical length scale is related to this stiffness through the shear modulus as $L_c \\sim \\mu \\, / \\, k_c$ with a constant of proportionality of order 1.\n",
    "\n",
    "A more detailed calculation (Rubin and Ampuero, 2005) gives:\n",
    "\n",
    "\\begin{equation}\n",
    "L_c = \\frac{\\pi}{4} \\frac{\\mu D_c}{b \\sigma}.\n",
    "\\end{equation}\n",
    "\n",
    "Conceptually, for $L < L_c$ the system is too stiff to nucleate an instability."
   ]
  },
  {
   "cell_type": "markdown",
   "metadata": {},
   "source": [
    "## Example 2: Time to Failure"
   ]
  },
  {
   "cell_type": "markdown",
   "metadata": {},
   "source": [
    "During the nucleation process, aseismic slip occurs within the nucleation zone defined by $L_c$, accelerating as failure approaches. We can study this process by considering the differential equation we derived above:\n",
    "\n",
    "\\begin{equation}\n",
    "\\dot{v} = \\frac{v^2}{a} \\left( \\frac{b}{D_c} - \\frac{k}{\\sigma} \\right)\n",
    "\\end{equation}"
   ]
  },
  {
   "cell_type": "markdown",
   "metadata": {},
   "source": [
    "---\n",
    "\n",
    "Let $H = (b/D_c - k/\\sigma)$, the term in parentheses above. The we have a differential equation of the form:\n",
    "\n",
    "\\begin{equation}\n",
    "\\frac{d v}{dt} = \\frac{H}{a} v^2\n",
    "\\end{equation}\n",
    "\n",
    "Integrating from an initial condition $v=v_0$ at $t = 0$:\n",
    "\n",
    "\\begin{equation}\n",
    "\\int_{v_0}^v \\frac{dv'}{v'^2} = \\int_0^t \\frac{H}{a},\n",
    "\\end{equation}\n",
    "\n",
    "which gives: \n",
    "\n",
    "\\begin{equation}\n",
    "\\frac{v}{v_0} = \\frac{1}{1 - H v_0 t \\, / \\, a}\n",
    "\\end{equation}"
   ]
  },
  {
   "cell_type": "markdown",
   "metadata": {},
   "source": [
    "---\n",
    "\n",
    "Notice from this equation that in this model, slip speed becomes infinite at a time:\n",
    "\n",
    "\\begin{equation}\n",
    "t_{inst} = \\frac{a}{H v_0}\n",
    "\\end{equation}\n",
    "\n",
    "This is obviously unphysical, and is a byproduct of the fact that we ignored inertial effects. Still, this basic functional form is a good approximation for much of the nucleation process."
   ]
  },
  {
   "cell_type": "markdown",
   "metadata": {},
   "source": [
    "---\n",
    "\n",
    "We can also integrate this equation with respect to time to get the slip $s$:\n",
    "  \n",
    "\\begin{equation}\n",
    "s(t) = \\int_0^t v(t') dt' = \\int_0^t \\frac{v_0}{1 - H v_0 t \\, / \\, a}\n",
    "\\end{equation}\n",
    "\n",
    "which has a logarithmic functional form:\n",
    "\n",
    "\\begin{equation}\n",
    "s(t) = - \\frac{a}{H} \\log \\left(1 - \\frac{t}{t_{inst}} \\right)\n",
    "\\end{equation}"
   ]
  },
  {
   "cell_type": "markdown",
   "metadata": {},
   "source": [
    "---\n",
    "\n",
    "Note that in the no-healing limit assumed above, the state varable evolves exponentially with slip: $\\theta = \\theta_0 \\exp(-s/D_c)$.\n",
    "\n",
    "We can visualize the basic functional forms for slip and slip rate as follows. A ballpark approximation of $H \\approx \\frac{a}{D_c}$ pertains to near-critical stiffness: $k \\sim k_c$. In this case:\n",
    "\n",
    "\\begin{equation}\n",
    "s(t) = -D_c \\log \\left(1 - \\frac{t}{t_{inst}} \\right)\n",
    "\\end{equation}\n",
    "\n",
    "\\begin{equation}\n",
    "v(t) = \\frac{v_0}{1 - t \\, / \\, t_{inst}}\n",
    "\\end{equation}\n",
    "\n",
    "\\begin{equation}\n",
    "t_{inst} = D_c \\, / \\, v_0\n",
    "\\end{equation}"
   ]
  },
  {
   "cell_type": "code",
   "execution_count": 2,
   "metadata": {},
   "outputs": [
    {
     "name": "stderr",
     "output_type": "stream",
     "text": [
      "<ipython-input-2-fdb7248155d3>:18: RuntimeWarning: divide by zero encountered in log\n",
      "  st = -Dc*np.log(1-tt/tI)\n",
      "<ipython-input-2-fdb7248155d3>:21: RuntimeWarning: divide by zero encountered in true_divide\n",
      "  vt = v0/(1-tt/tI)\n"
     ]
    },
    {
     "data": {
      "image/png": "[encoded data removed]",
      "text/plain": [
       "<Figure size 576x576 with 2 Axes>"
      ]
     },
     "metadata": {
      "needs_background": "light"
     },
     "output_type": "display_data"
    }
   ],
   "source": [
    "### Plot nucleation results\n",
    "\n",
    "# set parameters\n",
    "v0 = 1.0e-9 # m/s (plate rate)\n",
    "Dc = 10.0e-6 # m (lab value)\n",
    "\n",
    "# instability time\n",
    "tI = Dc/v0\n",
    "\n",
    "# figure setup\n",
    "fig, axi = plt.subplots(2,1,sharex=True,figsize=(8,8))\n",
    "fig.subplots_adjust(hspace=0.02)\n",
    "\n",
    "# times\n",
    "tt = np.linspace(0,tI,501)\n",
    "\n",
    "# slip\n",
    "st = -Dc*np.log(1-tt/tI)\n",
    "\n",
    "# slip rate\n",
    "vt = v0/(1-tt/tI)\n",
    "\n",
    "# plot\n",
    "axi[0].plot(tt-tI,st/Dc,'-b')\n",
    "axi[1].plot(tt-tI,vt/v0,'-r')\n",
    "\n",
    "# format plot\n",
    "fig.subplots_adjust(hspace=0.02)\n",
    "axi[1].set_xlabel(\"Time to instability (s)\",fontsize=18)\n",
    "axi[0].set_ylabel(\"$s/D_c$\",fontsize=18)\n",
    "axi[1].set_ylabel(\"$v/v_0$\",fontsize=18)\n",
    "for ax in axi:\n",
    "    ax.tick_params(labelsize=12)\n",
    "    ax.grid(lw=0.2)\n",
    "\n",
    "# show plot\n",
    "plt.show()\n",
    "plt.close()\n",
    "\n"
   ]
  },
  {
   "cell_type": "markdown",
   "metadata": {},
   "source": [
    "You can see that in both cases, things really accelerate as instability approaches, an effect that is more exaggerated in slip rate (red) rather than slip (blue). When we say instability here, we really mean it, as the function becomes singular at the end [hence the runtime warning].\n",
    "\n",
    "Note that this solution assumes only the background loading rate, not a more complex stress history. We will study that in greater detail during the following lesson on earthquake triggering."
   ]
  },
  {
   "cell_type": "markdown",
   "metadata": {},
   "source": [
    "# HOMEWORK"
   ]
  },
  {
   "cell_type": "markdown",
   "metadata": {},
   "source": [
    "## Problem 1: $L_C$ and Earthquake Magnitude"
   ]
  },
  {
   "cell_type": "markdown",
   "metadata": {},
   "source": [
    "**Question 1(a)**\n",
    "\n",
    "While regional seismic networks (e.g., TexNet) have nominal magnitude of completion of order $M_W$ 2, smaller events of order $M_W$ -1 or less have been detected in detailed local catalogs, e.g. those obtained from template matching or machine learning algorithms. \n",
    "\n",
    "What is a ballpark approximation for the fault radius for an earthquake of this size? State and justify any assumptions you are making."
   ]
  },
  {
   "cell_type": "markdown",
   "metadata": {},
   "source": [
    "<font color='blue'>\n",
    "\n",
    "**ANSWER**\n",
    "\n",
    "For a circular crack, the fault radius $r$ is related to the moment $M_0$ and stress drop $\\Delta \\sigma$ as:\n",
    "    \n",
    "\\begin{equation}\n",
    "\\Delta \\sigma = \\frac{7}{16} \\frac{M_0}{r^3}.\n",
    "\\end{equation}\n",
    "    \n",
    "Solving for $a$ we have\n",
    "    \n",
    "\\begin{equation}\n",
    "r= \\left(\\frac{7}{16} \\frac{M_0}{\\Delta \\sigma}\\right)^{1/3}.\n",
    "\\end{equation}\n",
    "\n",
    "\n",
    "Moment magnitude $M_W$ is given by\n",
    "\n",
    "\\begin{equation}\n",
    "M_W = \\frac{2}{3}(\\log_{10} M_0 - 9.1),\n",
    "\\end{equation}\n",
    "\n",
    "so $M_W$ = -1 corresponds to $\\approx$ 3.98 x $10^7$ Nm.\n",
    "\n",
    "For a nominal stress drop of 3 MPa, the source radius is 1.8 meters.\n",
    "\n",
    "See calculations below.\n",
    "\n",
    "</font>"
   ]
  },
  {
   "cell_type": "code",
   "execution_count": 2,
   "metadata": {},
   "outputs": [
    {
     "name": "stdout",
     "output_type": "stream",
     "text": [
      "M0 = 3.98e+07\n",
      "r = 1.80\n"
     ]
    }
   ],
   "source": [
    "### Calculations\n",
    "\n",
    "# compute moment\n",
    "Mw = -1.0\n",
    "M0 = 10.0**(1.5*Mw + 9.1)\n",
    "print(\"M0 = %.2e\" %M0)\n",
    "\n",
    "# compute radius\n",
    "stress = 3.0e6\n",
    "r = (7.0/16.0*M0/stress)**(1/3)\n",
    "print(\"r = %.2f\" %r)\n"
   ]
  },
  {
   "cell_type": "markdown",
   "metadata": {},
   "source": [
    "**Question 1(b)**\n",
    "\n",
    "Since we can observe earthquakes of this size (or smaller), what does this imply about $L_c$? If we assume $b$ = 0.01 and $\\sigma$ = 100 MPa, what does this imply about the value of $D_c$? Is this answer consistent with observations of $D_c$ from lab experiments?"
   ]
  },
  {
   "cell_type": "markdown",
   "metadata": {},
   "source": [
    "<font color='blue'>\n",
    "\n",
    "**ANSWER**\n",
    "\n",
    "The observed radius $r$ suggests $L_c \\leq r$. \n",
    "    \n",
    "We have:\n",
    "    \n",
    "\\begin{equation}\n",
    "r \\geq L_c = \\frac{\\pi}{4} \\frac{\\mu D_c}{b \\sigma}.\n",
    "\\end{equation}\n",
    "    \n",
    "Solving for $D_c$ we have:\n",
    "    \n",
    "\\begin{equation}\n",
    "D_c \\leq \\frac{4}{\\pi} \\frac{b \\sigma}{\\mu} r.\n",
    "\\end{equation}\n",
    "    \n",
    "It is instructive to plug in numbers. Let's say $b$ = 0.01,  $\\sigma$ = 100 MPa, $\\mu$ = 30 GPa.\n",
    "    \n",
    "Then \n",
    "\n",
    "\\begin{equation}\n",
    "D_c \\leq \\frac{4}{\\pi} \\left( \\frac{0.01 x 100 \\, MPa}{30000 \\, MPa} \\right) 1.80 \\, m \\approx 76 \\, \\mu m\n",
    "\\end{equation}\n",
    "\n",
    "This value is actually in reasonably good agreement with results from laboratory friction experiments. Of course $\\sigma$ and $b$ are not constants in the real Earth but depend on in-situ conditions.\n",
    "    \n",
    "</font>"
   ]
  },
  {
   "cell_type": "markdown",
   "metadata": {},
   "source": [
    "**Question 1(c)**\n",
    "\n",
    "Do you think $M_W \\sim -1$ is a good estimate of a true minimum magnitude or lower bound for earthquake size in the Earth? Why or why not? If so or if not, what does this imply about $L_c$ and $D_c$? "
   ]
  },
  {
   "cell_type": "markdown",
   "metadata": {},
   "source": [
    "<font color='blue'>\n",
    "\n",
    "**ANSWER**\n",
    "\n",
    "No, it is likely that smaller earthquakes exist. Indeed, detailed microseismic analyses find smaller events all of the time. Thus, $L_c$ is likely smaller, as is $D_c$. Of course, there is going to be a lot of variability across fault zones. And these basic frictional and nucleation models may not reflect the actual nucleation process of real earthquakes, small or large.\n",
    " \n",
    "\n",
    "</font>"
   ]
  },
  {
   "cell_type": "markdown",
   "metadata": {},
   "source": [
    "## Problem 2: Observing \"Precursory\" Nucleation Strain"
   ]
  },
  {
   "cell_type": "markdown",
   "metadata": {},
   "source": [
    "Nucleation requires aseismic slip on a fault plane of length scale ~ $L_c$ before dynamic rupture can initiate. This leads to the tantalizing possibility that one might observe this precursory strain transient before an earthquake gets started and hence predict its occurrence in advance. This exercise studies this possibility in detail. "
   ]
  },
  {
   "cell_type": "markdown",
   "metadata": {},
   "source": [
    "**Question 2(a)**\n",
    "\n",
    "Assume a fault slipping at a plate rate of order $v_0 \\approx 10^{-9}$ m/s and has a value of $D_c$ of 10 $\\mu$m. In this case, what is the approximate time to instability in hours? \n",
    "\n",
    "[Note that based on our discussion in Example 2, we likely will have less time than this before anything becomes detectable.]"
   ]
  },
  {
   "cell_type": "markdown",
   "metadata": {},
   "source": [
    "<font color='blue'>\n",
    "\n",
    "**ANSWER**\n",
    "\n",
    "Here, we are just plugging in formulas from above:\n",
    "    \n",
    "\\begin{equation}\n",
    "s(t) = -D_c \\log \\left(1 - \\frac{t}{t_{inst}} \\right)\n",
    "\\end{equation}\n",
    "\n",
    "\\begin{equation}\n",
    "v(t) = \\frac{v_0}{1 - t \\, / \\, t_{inst}}\n",
    "\\end{equation}\n",
    "\n",
    "\\begin{equation}\n",
    "t_{inst} = D_c \\, / \\, v_0\n",
    "\\end{equation}\n",
    "    \n",
    "Thus $t_{inst}$ = $10^{-5}$ m / $10^{-9}$ m/s = $10^5$ s $\\approx$ 2.8 hours.\n",
    "\n",
    "This is somewhat promising, as it gives a couple of hours of warning to catch an earthquake on the way. However, as we saw in Example 2, we may need to wait until very late in the nucleation process to see anything detectable.\n",
    "   \n",
    "</font>"
   ]
  },
  {
   "cell_type": "markdown",
   "metadata": {},
   "source": [
    "**Question 2(b)**\n",
    "\n",
    "For a vertical, strike-slip fault at depth $d$, the strain $e$ observed at the surface scales as:\n",
    "\n",
    "\\begin{equation}\n",
    "e(t) = \\frac{s(t) A}{8 \\pi d^3},\n",
    "\\end{equation}\n",
    "\n",
    "where $A$ is the fault area. \n",
    "\n",
    "For a simple first-order approximation, you may assume $A \\sim \\pi {L_c}^2$. \n",
    "\n",
    "* If $D_c$ = 10 $\\mu$m, $b$ = 0.01,  $\\sigma$ = 100 MPa, $\\mu = 30$ GPa, what is $L_c$?\n",
    "* If $d$ = 10 km, what is the observed strain at 100s, 10s, and 1s before instability? \n",
    "* What do your results imply about the feasibility of earthquake prediction from nucleation precursors?\n"
   ]
  },
  {
   "cell_type": "markdown",
   "metadata": {},
   "source": [
    "<font color='blue'>\n",
    "\n",
    "**ANSWER**\n",
    "   \n",
    "---    \n",
    "    \n",
    "* Assuming $D_c$ = 10 $\\mu$m, $b$ = 0.01,  $\\sigma$ = 100 MPa, $\\mu = 30$ GPa, we use the formula: \n",
    "\n",
    "\\begin{equation}\n",
    "L_c = \\frac{\\pi}{4} \\frac{\\mu D_c}{b \\sigma}\n",
    "\\end{equation}\n",
    "    \n",
    "giving $L_c \\approx$ 0.24 m.\n",
    "    \n",
    "---\n",
    "    \n",
    "* Slip evolves as:\n",
    "    \n",
    "\\begin{equation}\n",
    "s(t) = -D_c \\log \\left(1 - \\frac{t}{t_{inst}} \\right)\n",
    "\\end{equation}\n",
    "      \n",
    "So strain evolves as:\n",
    "    \n",
    "\\begin{equation}\n",
    "e(t) =  -\\frac{D_c A}{8 \\pi d^3} \\log \\left(1 - \\frac{t}{t_{inst}} \\right) = -\\frac{D_c L_c^2}{8 d^3} \\log \\left(1 - \\frac{t}{t_{inst}} \\right)\n",
    "\\end{equation}\n",
    "    \n",
    "The strain is highest just before nucleation, with values of order $10^{-18}$ or $10^{-19}$.\n",
    " \n",
    "---\n",
    "    \n",
    "* These strain values are tiny, likely below any detectable threshold. Thus we are out of luck in predicting earthquakes from strain precursors of this type.\n",
    "\n",
    "</font>"
   ]
  },
  {
   "cell_type": "code",
   "execution_count": 5,
   "metadata": {},
   "outputs": [
    {
     "name": "stdout",
     "output_type": "stream",
     "text": [
      "Lc = 0.24\n",
      "At t = 100s to instability, strain = 3.20e-19\n",
      "At t =  10s to instability, strain = 4.79e-19\n",
      "At t =   1s to instability, strain = 6.39e-19\n"
     ]
    }
   ],
   "source": [
    "### Calculations for the above\n",
    "\n",
    "# 1. Lc\n",
    "b = 0.01 # frictional parameter\n",
    "sigma = 100.0 # stress in MPa\n",
    "mu = 30.0e3 # shear modulus in MPa\n",
    "Dc = 10.0e-6 # Dc in meters\n",
    "Lc = (np.pi/4.0)*(mu*Dc)/(b*sigma)\n",
    "print(\"Lc = %.2f\" %Lc)\n",
    "\n",
    "# strain at different times\n",
    "d = 10.0e3 # depth in meters\n",
    "tI = 1.0e4 # instability time in seconds\n",
    "for tt in [100.0, 10.0, 1.0]:\n",
    "    strain = - (Dc*(Lc**2))/(8*(d**3))*np.log(1-(tI-tt)/tI)\n",
    "    print(\"At t = %3.0fs to instability, strain = %.2e\" %(tt,strain))"
   ]
  }
 ],
 "metadata": {
  "kernelspec": {
   "display_name": "Python 3 (ipykernel)",
   "language": "python",
   "name": "python3"
  },
  "language_info": {
   "codemirror_mode": {
    "name": "ipython",
    "version": 3
   },
   "file_extension": ".py",
   "mimetype": "text/x-python",
   "name": "python",
   "nbconvert_exporter": "python",
   "pygments_lexer": "ipython3",
   "version": "3.9.7"
  }
 },
 "nbformat": 4,
 "nbformat_minor": 4
}
